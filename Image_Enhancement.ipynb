{
  "nbformat": 4,
  "nbformat_minor": 0,
  "metadata": {
    "colab": {
      "name": "Image_Enhancement.ipynb",
      "provenance": [],
      "collapsed_sections": []
    },
    "kernelspec": {
      "name": "python3",
      "display_name": "Python 3"
    },
    "language_info": {
      "name": "python"
    }
  },
  "cells": [
    {
      "cell_type": "code",
      "execution_count": null,
      "metadata": {
        "id": "D_wum5078tha"
      },
      "outputs": [],
      "source": [
        "import numpy as np \n",
        "import pandas as pd\n",
        "import os\n",
        "import cv2 as cv\n",
        "import matplotlib.pyplot as plt\n",
        "from keras.preprocessing import image\n",
        "from keras.applications.inception_resnet_v2 import InceptionResNetV2\n",
        "from keras.applications.inception_resnet_v2 import preprocess_input,decode_predictions\n",
        "from keras import backend as K\n",
        "from keras.layers import add, Conv2D,MaxPooling2D,UpSampling2D,Input,BatchNormalization, RepeatVector, Reshape\n",
        "from keras.layers.merge import concatenate\n",
        "from keras.models import Model\n",
        "from keras.preprocessing.image import ImageDataGenerator\n",
        "from tensorflow import set_random_seed\n",
        "set_random_seed(2)\n",
        "np.random.seed(1)"
      ]
    },
    {
      "cell_type": "code",
      "source": [
        "InputPath=\"C:\\Users\\Divyansh\\image-classification\\images\""
      ],
      "metadata": {
        "id": "rSzwa9WE8v6G"
      },
      "execution_count": null,
      "outputs": []
    },
    {
      "cell_type": "code",
      "source": [
        "def noisy(noise_typ,image):\n",
        "    if noise_typ == \"gauss\":\n",
        "        row,col,ch= image.shape\n",
        "        mean = 0\n",
        "        var = 0.0001\n",
        "        sigma = var**0.05\n",
        "        gauss = np.random.normal(mean,sigma,(row,col,ch))\n",
        "        gauss = gauss.reshape(row,col,ch)\n",
        "        noisy =  gauss + image\n",
        "        return noisy\n",
        "    elif noise_typ == \"s&p\":\n",
        "        row,col,ch = image.shape\n",
        "        s_vs_p = 0.5\n",
        "        amount = 1.0\n",
        "        out = np.copy(image)\n",
        "        num_salt = np.ceil(image.size * s_vs_p)\n",
        "        coords = [np.random.randint(0, i, int(num_salt))\n",
        "              for i in image.shape]\n",
        "        out[coords] = 1\n",
        "\n",
        "        num_pepper = np.ceil(image.size * (1. - s_vs_p))\n",
        "        coords = [np.random.randint(0, i , int(num_pepper))\n",
        "              for i in image.shape]\n",
        "        out[coords] = 1\n",
        "        return out\n",
        "    elif noise_typ == \"poisson\":\n",
        "        vals = len(np.unique(image))\n",
        "        vals = 2 ** np.ceil(np.log2(vals))\n",
        "        noisy = np.random.poisson(image * vals) / float(vals)\n",
        "        return noisy\n",
        "    elif noise_typ ==\"speckle\":\n",
        "        row,col,ch = image.shape\n",
        "        gauss = np.random.randn(row,col,ch)\n",
        "        gauss = gauss.reshape(row,col,ch)        \n",
        "        noisy = image + image * gauss\n",
        "        return noisy"
      ],
      "metadata": {
        "id": "tW09BEkU8xSX"
      },
      "execution_count": null,
      "outputs": []
    },
    {
      "cell_type": "code",
      "source": [
        "img = cv.imread(InputPath+\"0 (3).jpg\")  \n",
        "img = cv.cvtColor(img, cv.COLOR_BGR2RGB)\n",
        "l = img.max()\n",
        "plt.imshow(img)\n",
        "l"
      ],
      "metadata": {
        "id": "YMsb4QoT8zrF"
      },
      "execution_count": null,
      "outputs": []
    },
    {
      "cell_type": "code",
      "source": [
        "# Image with noise\n",
        "Noise = noisy(\"s&p\",img)\n",
        "plt.imshow(Noise)"
      ],
      "metadata": {
        "id": "sVfqsNLc80wj"
      },
      "execution_count": null,
      "outputs": []
    },
    {
      "cell_type": "code",
      "source": [
        "# Image with low-brightness\n",
        "hsv = cv.cvtColor(img, cv.COLOR_BGR2HSV) #convert it to hsv\n",
        "hsv[...,2] = hsv[...,2]*0.2\n",
        "img1 = cv.cvtColor(hsv, cv.COLOR_HSV2BGR)\n",
        "Noise2 = noisy(\"s&p\",img1)\n",
        "\n",
        "plt.imshow(Noise2)"
      ],
      "metadata": {
        "id": "TNdYVMqp86Ak"
      },
      "execution_count": null,
      "outputs": []
    },
    {
      "cell_type": "code",
      "source": [
        "# Changing RGB mode to hsv\n",
        "def PreProcessData(ImagePath):\n",
        "    X_=[]\n",
        "    y_=[]\n",
        "    count=0\n",
        "    for imageDir in os.listdir(ImagePath):\n",
        "        if count<2131:\n",
        "            try:\n",
        "                count=count+1\n",
        "                img = cv.imread(ImagePath + imageDir)\n",
        "                img = cv.cvtColor(img, cv.COLOR_BGR2RGB)\n",
        "                img_y = cv.resize(img,(500,500))\n",
        "                hsv = cv.cvtColor(img_y, cv.COLOR_BGR2HSV)\n",
        "                hsv[...,2] = hsv[...,2]*0.2\n",
        "                img_1 = cv.cvtColor(hsv, cv.COLOR_HSV2BGR)\n",
        "                Noisey_img = noisy(\"s&p\",img_1)\n",
        "                X_.append(Noisey_img)\n",
        "                y_.append(img_y)\n",
        "            except:\n",
        "                pass\n",
        "    X_ = np.array(X_)\n",
        "    y_ = np.array(y_)\n",
        "    \n",
        "    return X_,y_"
      ],
      "metadata": {
        "id": "TBRkOP9_9Chp"
      },
      "execution_count": null,
      "outputs": []
    },
    {
      "cell_type": "code",
      "source": [
        "X_,y_ = PreProcessData(InputPath)"
      ],
      "metadata": {
        "id": "4D5VyxG09DWv"
      },
      "execution_count": null,
      "outputs": []
    },
    {
      "cell_type": "code",
      "source": [
        "# Neural Network Model Creation\n",
        "K.clear_session()\n",
        "def InstantiateModel(in_):\n",
        "    \n",
        "    model_1 = Conv2D(16,(3,3), activation='relu',padding='same',strides=1)(in_)\n",
        "    model_1 = Conv2D(32,(3,3), activation='relu',padding='same',strides=1)(model_1)\n",
        "    model_1 = Conv2D(64,(2,2), activation='relu',padding='same',strides=1)(model_1)\n",
        "    \n",
        "    model_2 = Conv2D(32,(3,3), activation='relu',padding='same',strides=1)(in_)\n",
        "    model_2 = Conv2D(64,(2,2), activation='relu',padding='same',strides=1)(model_2)\n",
        "    \n",
        "    model_2_0 = Conv2D(64,(2,2), activation='relu',padding='same',strides=1)(model_2)\n",
        "    \n",
        "    model_add = add([model_1,model_2,model_2_0])\n",
        "    \n",
        "    model_3 = Conv2D(64,(3,3), activation='relu',padding='same',strides=1)(model_add)\n",
        "    model_3 = Conv2D(32,(3,3), activation='relu',padding='same',strides=1)(model_3)\n",
        "    model_3 = Conv2D(16,(2,2), activation='relu',padding='same',strides=1)(model_3)\n",
        "    \n",
        "    model_3_1 = Conv2D(32,(3,3), activation='relu',padding='same',strides=1)(model_add)\n",
        "    model_3_1 = Conv2D(16,(2,2), activation='relu',padding='same',strides=1)(model_3_1)\n",
        "    \n",
        "    model_3_2 = Conv2D(16,(2,2), activation='relu',padding='same',strides=1)(model_add)\n",
        "    \n",
        "    model_add_2 = add([model_3_1,model_3_2,model_3])\n",
        "    \n",
        "    model_4 = Conv2D(16,(3,3), activation='relu',padding='same',strides=1)(model_add_2)\n",
        "    model_4_1 = Conv2D(16,(3,3), activation='relu',padding='same',strides=1)(model_add)\n",
        "    model_add_3 = add([model_4_1,model_add_2,model_4])\n",
        "    \n",
        "    model_5 = Conv2D(16,(3,3), activation='relu',padding='same',strides=1)(model_add_3)\n",
        "    model_5 = Conv2D(16,(2,2), activation='relu',padding='same',strides=1)(model_add_3)\n",
        "    \n",
        "    model_5 = Conv2D(3,(3,3), activation='relu',padding='same',strides=1)(model_5)\n",
        "    \n",
        "    return model_5\n",
        "    "
      ],
      "metadata": {
        "id": "bhWULCZY9FkJ"
      },
      "execution_count": null,
      "outputs": []
    },
    {
      "cell_type": "code",
      "source": [
        "Input_Sample = Input(shape=(500, 500,3))\n",
        "Output_ = InstantiateModel(Input_Sample)\n",
        "Model_Enhancer = Model(inputs=Input_Sample, outputs=Output_)"
      ],
      "metadata": {
        "id": "8RS0q5kU9ISN"
      },
      "execution_count": null,
      "outputs": []
    },
    {
      "cell_type": "code",
      "source": [
        "Model_Enhancer.compile(optimizer=\"adam\", loss='mean_squared_error')\n",
        "Model_Enhancer.summary()"
      ],
      "metadata": {
        "id": "loAzBBK89IuC"
      },
      "execution_count": null,
      "outputs": []
    },
    {
      "cell_type": "code",
      "source": [
        "from keras.utils.vis_utils import plot_model\n",
        "plot_model(Model_Enhancer,to_file='model_.png',show_shapes=True, show_layer_names=True)\n",
        "from IPython.display import Image\n",
        "Image(retina=True, filename='model_.png')"
      ],
      "metadata": {
        "id": "uNfe6zvN9KUv"
      },
      "execution_count": null,
      "outputs": []
    },
    {
      "cell_type": "code",
      "source": [
        "def GenerateInputs(X,y):\n",
        "    for i in range(len(X)):\n",
        "        X_input = X[i].reshape(1,500,500,3)\n",
        "        y_input = y[i].reshape(1,500,500,3)\n",
        "        yield (X_input,y_input)\n",
        "Model_Enhancer.fit_generator(GenerateInputs(X_,y_),epochs=53,verbose=1,steps_per_epoch=39,shuffle=True)"
      ],
      "metadata": {
        "id": "TX8MN-4I9LIy"
      },
      "execution_count": null,
      "outputs": []
    },
    {
      "cell_type": "code",
      "source": [
        "TestPath=\"C:\\Users\\Divyansh\\image-classification\\images\""
      ],
      "metadata": {
        "id": "VdAldpr89OEv"
      },
      "execution_count": null,
      "outputs": []
    },
    {
      "cell_type": "code",
      "source": [
        "def ExtractTestInput(ImagePath):\n",
        "    img = cv.imread(ImagePath)\n",
        "    img = cv.cvtColor(img, cv.COLOR_BGR2RGB)\n",
        "    img_ = cv.resize(img,(500,500))\n",
        "    hsv = cv.cvtColor(img_, cv.COLOR_BGR2HSV)\n",
        "    hsv[...,2] = hsv[...,2]*0.2\n",
        "    img1 = cv.cvtColor(hsv, cv.COLOR_HSV2BGR)\n",
        "    Noise = noisy(\"s&p\",img1)\n",
        "    Noise = Noise.reshape(1,500,500,3)\n",
        "    return Noise"
      ],
      "metadata": {
        "id": "fF0JxqFl9WcA"
      },
      "execution_count": null,
      "outputs": []
    },
    {
      "cell_type": "code",
      "source": [
        "ImagePath=TestPath+\"101 (6).jpg\"\n",
        "image_for_test = ExtractTestInput(ImagePath)\n",
        "Prediction = Model_Enhancer.predict(image_for_test)"
      ],
      "metadata": {
        "id": "DpM_-q3e9Y-L"
      },
      "execution_count": null,
      "outputs": []
    },
    {
      "cell_type": "code",
      "source": [
        "Prediction = Prediction.reshape(500,500,3)\n",
        "plt.imshow(Prediction)"
      ],
      "metadata": {
        "id": "cimQM5gM9aP1"
      },
      "execution_count": null,
      "outputs": []
    },
    {
      "cell_type": "code",
      "source": [
        "Image_test=TestPath+\"101 (6).jpg\"\n",
        "plt.figure(figsize=(30,30))\n",
        "plt.subplot(5,5,1)\n",
        "img_1 = cv.imread(Image_test)\n",
        "img_1 = cv.cvtColor(img_1, cv.COLOR_BGR2RGB)\n",
        "img_1 = cv.resize(img_1, (500, 500))\n",
        "plt.title(\"Ground Truth\",fontsize=20)\n",
        "plt.imshow(img_1)\n",
        "\n",
        "plt.subplot(5,5,1+1)\n",
        "img_ = ExtractTestInput(Image_test)\n",
        "img_ = img_.reshape(500,500,3)\n",
        "plt.title(\"Low Light Image\",fontsize=20)\n",
        "plt.imshow(img_)\n",
        "\n",
        "plt.subplot(5,5,1+2)\n",
        "img_[:,:,:] = Prediction[:,:,:]\n",
        "plt.title(\"Enhanced Image\",fontsize=20)\n",
        "plt.imshow(img_)\n"
      ],
      "metadata": {
        "id": "R6COFH959axy"
      },
      "execution_count": null,
      "outputs": []
    },
    {
      "cell_type": "code",
      "source": [
        "TestPath2=\"C:\\Users\\Divyansh\\image-classification\\images\\validation\\validation\\\""
      ],
      "metadata": {
        "id": "joeVGEHS9eGB"
      },
      "execution_count": null,
      "outputs": []
    },
    {
      "cell_type": "code",
      "source": [
        "Image_test2=TestPath2+\"0.jpg\"\n",
        "plt.figure(figsize=(30,30))\n",
        "plt.subplot(5,5,1)\n",
        "img_1 = cv.imread(Image_test2)\n",
        "img_1 = cv.cvtColor(img_1, cv.COLOR_BGR2RGB)\n",
        "img_1 = cv.resize(img_1, (500, 500))\n",
        "plt.title(\"Ground Truth\",fontsize=20)\n",
        "plt.imshow(img_1)\n",
        "\n",
        "plt.subplot(5,5,1+1)\n",
        "img_ = ExtractTestInput(Image_test2)\n",
        "Prediction = Model_Enhancer.predict(img_)\n",
        "img_ = img_.reshape(500,500,3)\n",
        "plt.title(\"Low Light Image\",fontsize=20)\n",
        "plt.imshow(img_)\n",
        "\n",
        "plt.subplot(5,5,1+2)\n",
        "Prediction = Prediction.reshape(500,500,3)\n",
        "img_[:,:,:] = Prediction[:,:,:]\n",
        "plt.title(\"Enhanced Image\",fontsize=20)\n",
        "plt.imshow(img_)\n"
      ],
      "metadata": {
        "id": "3IJwXwYV9n4t"
      },
      "execution_count": null,
      "outputs": []
    },
    {
      "cell_type": "code",
      "source": [
        "Image_test2=TestPath2+\"13.jpg\"\n",
        "plt.figure(figsize=(30,30))\n",
        "plt.subplot(5,5,1)\n",
        "img_1 = cv.imread(Image_test2)\n",
        "img_1 = cv.cvtColor(img_1, cv.COLOR_BGR2RGB)\n",
        "img_1 = cv.resize(img_1, (500, 500))\n",
        "plt.title(\"Ground Truth\",fontsize=20)\n",
        "plt.imshow(img_1)\n",
        "\n",
        "plt.subplot(5,5,1+1)\n",
        "img_ = ExtractTestInput(Image_test2)\n",
        "Prediction = Model_Enhancer.predict(img_)\n",
        "img_ = img_.reshape(500,500,3)\n",
        "plt.title(\"Low Light Image\",fontsize=20)\n",
        "plt.imshow(img_)\n",
        "\n",
        "plt.subplot(5,5,1+2)\n",
        "Prediction = Prediction.reshape(500,500,3)\n",
        "img_[:,:,:] = Prediction[:,:,:]\n",
        "plt.title(\"Enhanced Image\",fontsize=20)\n",
        "plt.imshow(img_)\n"
      ],
      "metadata": {
        "id": "n1ZTKpVm9pN5"
      },
      "execution_count": null,
      "outputs": []
    },
    {
      "cell_type": "code",
      "source": [
        "Image_test2=TestPath2+\"18.jpg\"\n",
        "plt.figure(figsize=(30,30))\n",
        "plt.subplot(5,5,1)\n",
        "img_1 = cv.imread(Image_test2)\n",
        "img_1 = cv.cvtColor(img_1, cv.COLOR_BGR2RGB)\n",
        "img_1 = cv.resize(img_1, (500, 500))\n",
        "plt.title(\"Ground Truth\",fontsize=20)\n",
        "plt.imshow(img_1)\n",
        "\n",
        "plt.subplot(5,5,1+1)\n",
        "img_ = ExtractTestInput(Image_test2)\n",
        "Prediction = Model_Enhancer.predict(img_)\n",
        "img_ = img_.reshape(500,500,3)\n",
        "plt.title(\"Low Light Image\",fontsize=20)\n",
        "plt.imshow(img_)\n",
        "\n",
        "plt.subplot(5,5,1+2)\n",
        "Prediction = Prediction.reshape(500,500,3)\n",
        "img_[:,:,:] = Prediction[:,:,:]\n",
        "plt.title(\"Enhanced Image\",fontsize=20)\n",
        "plt.imshow(img_)\n"
      ],
      "metadata": {
        "id": "PNZtzRjd9quZ"
      },
      "execution_count": null,
      "outputs": []
    },
    {
      "cell_type": "code",
      "source": [
        "Image_test2=TestPath2+\"2.jpg\"\n",
        "plt.figure(figsize=(30,30))\n",
        "plt.subplot(5,5,1)\n",
        "img_1 = cv.imread(Image_test2)\n",
        "img_1 = cv.cvtColor(img_1, cv.COLOR_BGR2RGB)\n",
        "img_1 = cv.resize(img_1, (500, 500))\n",
        "plt.title(\"Ground Truth\",fontsize=20)\n",
        "plt.imshow(img_1)\n",
        "\n",
        "plt.subplot(5,5,1+1)\n",
        "img_ = ExtractTestInput(Image_test2)\n",
        "Prediction = Model_Enhancer.predict(img_)\n",
        "img_ = img_.reshape(500,500,3)\n",
        "plt.title(\"Low Light Image\",fontsize=20)\n",
        "plt.imshow(img_)\n",
        "\n",
        "plt.subplot(5,5,1+2)\n",
        "Prediction = Prediction.reshape(500,500,3)\n",
        "img_[:,:,:] = Prediction[:,:,:]\n",
        "plt.title(\"Enhanced Image\",fontsize=20)\n",
        "plt.imshow(img_)\n"
      ],
      "metadata": {
        "id": "cf5w6RBA9sjv"
      },
      "execution_count": null,
      "outputs": []
    },
    {
      "cell_type": "code",
      "source": [
        "Image_test2=TestPath2+\"14.jpg\"\n",
        "plt.figure(figsize=(30,30))\n",
        "plt.subplot(5,5,1)\n",
        "img_1 = cv.imread(Image_test2)\n",
        "img_1 = cv.cvtColor(img_1, cv.COLOR_BGR2RGB)\n",
        "img_1 = cv.resize(img_1, (500, 500))\n",
        "plt.title(\"Ground Truth\",fontsize=20)\n",
        "plt.imshow(img_1)\n",
        "\n",
        "plt.subplot(5,5,1+1)\n",
        "img_ = ExtractTestInput(Image_test2)\n",
        "Prediction = Model_Enhancer.predict(img_)\n",
        "img_ = img_.reshape(500,500,3)\n",
        "plt.title(\"Low Light Image\",fontsize=20)\n",
        "plt.imshow(img_)\n",
        "\n",
        "plt.subplot(5,5,1+2)\n",
        "Prediction = Prediction.reshape(500,500,3)\n",
        "img_[:,:,:] = Prediction[:,:,:]\n",
        "plt.title(\"Enhanced Image\",fontsize=20)\n",
        "plt.imshow(img_)"
      ],
      "metadata": {
        "id": "qcnpwLU39tGZ"
      },
      "execution_count": null,
      "outputs": []
    },
    {
      "cell_type": "code",
      "source": [
        "Image_test2=TestPath2+\"11.jpg\"\n",
        "plt.figure(figsize=(30,30))\n",
        "plt.subplot(5,5,1)\n",
        "img_1 = cv.imread(Image_test2)\n",
        "img_1 = cv.cvtColor(img_1, cv.COLOR_BGR2RGB)\n",
        "img_1 = cv.resize(img_1, (500, 500))\n",
        "plt.title(\"Ground Truth\",fontsize=20)\n",
        "plt.imshow(img_1)\n",
        "\n",
        "plt.subplot(5,5,1+1)\n",
        "img_ = ExtractTestInput(Image_test2)\n",
        "Prediction = Model_Enhancer.predict(img_)\n",
        "img_ = img_.reshape(500,500,3)\n",
        "plt.title(\"Low Light Image\",fontsize=20)\n",
        "plt.imshow(img_)\n",
        "\n",
        "plt.subplot(5,5,1+2)\n",
        "Prediction = Prediction.reshape(500,500,3)\n",
        "img_[:,:,:] = Prediction[:,:,:]\n",
        "plt.title(\"Enhanced Image\",fontsize=20)\n",
        "plt.imshow(img_)"
      ],
      "metadata": {
        "id": "MLPddHEg9vG5"
      },
      "execution_count": null,
      "outputs": []
    },
    {
      "cell_type": "code",
      "source": [
        "Image_test2=TestPath2+\"10.jpg\"\n",
        "plt.figure(figsize=(30,30))\n",
        "plt.subplot(5,5,1)\n",
        "img_1 = cv.imread(Image_test2)\n",
        "img_1 = cv.cvtColor(img_1, cv.COLOR_BGR2RGB)\n",
        "img_1 = cv.resize(img_1, (500, 500))\n",
        "plt.title(\"Ground Truth\",fontsize=20)\n",
        "plt.imshow(img_1)\n",
        "\n",
        "plt.subplot(5,5,1+1)\n",
        "img_ = ExtractTestInput(Image_test2)\n",
        "Prediction = Model_Enhancer.predict(img_)\n",
        "img_ = img_.reshape(500,500,3)\n",
        "plt.title(\"Low Light Image\",fontsize=20)\n",
        "plt.imshow(img_)\n",
        "\n",
        "plt.subplot(5,5,1+2)\n",
        "Prediction = Prediction.reshape(500,500,3)\n",
        "img_[:,:,:] = Prediction[:,:,:]\n",
        "plt.title(\"Enhanced Image\",fontsize=20)\n",
        "plt.imshow(img_)"
      ],
      "metadata": {
        "id": "a5abnS8o9wdN"
      },
      "execution_count": null,
      "outputs": []
    },
    {
      "cell_type": "code",
      "source": [
        "Image_test2=TestPath2+\"12.jpg\"\n",
        "plt.figure(figsize=(30,30))\n",
        "plt.subplot(5,5,1)\n",
        "img_1 = cv.imread(Image_test2)\n",
        "img_1 = cv.cvtColor(img_1, cv.COLOR_BGR2RGB)\n",
        "img_1 = cv.resize(img_1, (500, 500))\n",
        "plt.title(\"Ground Truth\",fontsize=20)\n",
        "plt.imshow(img_1)\n",
        "\n",
        "plt.subplot(5,5,1+1)\n",
        "img_ = ExtractTestInput(Image_test2)\n",
        "Prediction = Model_Enhancer.predict(img_)\n",
        "img_ = img_.reshape(500,500,3)\n",
        "plt.title(\"Low Light Image\",fontsize=20)\n",
        "plt.imshow(img_)\n",
        "\n",
        "plt.subplot(5,5,1+2)\n",
        "Prediction = Prediction.reshape(500,500,3)\n",
        "img_[:,:,:] = Prediction[:,:,:]\n",
        "plt.title(\"Enhanced Image\",fontsize=20)\n",
        "plt.imshow(img_)\n"
      ],
      "metadata": {
        "id": "mJqQzggk9yAZ"
      },
      "execution_count": null,
      "outputs": []
    }
  ]
}